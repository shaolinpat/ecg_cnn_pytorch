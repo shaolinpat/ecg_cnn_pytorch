{
  "cells": [
    {
      "cell_type": "markdown",
      "metadata": {},
      "source": [
        "# ECG-CNN Colab Notebook\n",
        "\n",
        "This notebook sets up the environment, clones the repo, installs dependencies, and runs training with `premium_grid.yaml`."
      ]
    },
    {
      "cell_type": "code",
      "execution_count": null,
      "metadata": {},
      "outputs": [],
      "source": [
        "# Check for GPU\n",
        "import torch\n",
        "print(\"CUDA Available:\", torch.cuda.is_available())\n",
        "print(\"Device:\", torch.device(\"cuda\" if torch.cuda.is_available() else \"cpu\"))"
      ]
    },
    {
      "cell_type": "code",
      "execution_count": null,
      "metadata": {},
      "outputs": [],
      "source": [
        "# Clone the repository (replace with your repo URL if needed)\n",
        "!git clone https://github.com/shaolinpat/ecg_cnn_pytorch.git\n",
        "%cd ecg_cnn_pytorch"
      ]
    },
    {
      "cell_type": "code",
      "execution_count": null,
      "metadata": {},
      "outputs": [],
      "source": [
        "# # Write requirements_colab.txt\n",
        "# with open(\"requirements_colab.txt\", \"w\") as f:\n",
        "#     f.write(\"\"\"\n",
        "# torch==2.3.0\n",
        "# torchaudio\n",
        "# torchvision\n",
        "# numpy\n",
        "# pandas\n",
        "# scikit-learn\n",
        "# matplotlib\n",
        "# seaborn\n",
        "# wfdb\n",
        "# tqdm\n",
        "# jupyter\n",
        "# ipykernel\n",
        "# jupytext\n",
        "# pytest\n",
        "# pytest-cov\n",
        "# coverage\n",
        "# pyyaml\n",
        "# \"\"\")"
      ]
    },
    {
      "cell_type": "code",
      "execution_count": null,
      "metadata": {},
      "outputs": [],
      "source": [
        "# Install dependencies\n",
        "!pip install -r requirements_colab.txt"
      ]
    },
    {
      "cell_type": "code",
      "execution_count": null,
      "metadata": {},
      "outputs": [],
      "source": [
        "# Run training with the full grid\n",
        "!python -m ecg_cnn.train --config configs/premium_grid.yaml"
      ]
    },
    {
      "cell_type": "code",
      "execution_count": null,
      "metadata": {},
      "outputs": [],
      "source": [
        "# Run evaluation\n",
        "!python evaluate_2.py"
      ]
    }
  ],
  "metadata": {
    "kernelspec": {
      "display_name": "Python 3",
      "language": "python",
      "name": "python3"
    },
    "language_info": {
      "name": "python",
      "version": "3.11"
    }
  },
  "nbformat": 4,
  "nbformat_minor": 5
}
